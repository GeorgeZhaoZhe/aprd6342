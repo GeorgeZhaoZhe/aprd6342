{
  "nbformat": 4,
  "nbformat_minor": 0,
  "metadata": {
    "colab": {
      "name": "Untitled6.ipynb",
      "provenance": []
    },
    "kernelspec": {
      "name": "python3",
      "display_name": "Python 3"
    }
  },
  "cells": [
    {
      "cell_type": "code",
      "metadata": {
        "id": "sfZGFAXfFgoI",
        "colab_type": "code",
        "colab": {}
      },
      "source": [
        "import pandas as pd\n",
        "import pandas\n",
        "from sklearn.model_selection import train_test_split\n",
        "from sklearn.metrics import mean_squared_error\n",
        "from sklearn.linear_model import LassoLarsCV\n",
        "import matplotlib.pyplot as plt"
      ],
      "execution_count": 0,
      "outputs": []
    },
    {
      "cell_type": "code",
      "metadata": {
        "id": "uc8-0y5KFxFz",
        "colab_type": "code",
        "outputId": "c12e7f33-bbd9-49fd-96bb-fbe9af71f01e",
        "colab": {
          "base_uri": "https://localhost:8080/",
          "height": 35
        }
      },
      "source": [
        "from IPython.core.interactiveshell import InteractiveShell\n",
        "InteractiveShell.ast_node_interactivity = \"all\"\n",
        "from google.colab import drive\n",
        "drive.mount('/content/drive')\n",
        "df = pd.read_csv(open('drive/My Drive/Colab Notebooks/finalmaster-ratios.csv', 'rb'))"
      ],
      "execution_count": 0,
      "outputs": [
        {
          "output_type": "stream",
          "text": [
            "Drive already mounted at /content/drive; to attempt to forcibly remount, call drive.mount(\"/content/drive\", force_remount=True).\n"
          ],
          "name": "stdout"
        }
      ]
    },
    {
      "cell_type": "code",
      "metadata": {
        "id": "wQ8ySevoGAX3",
        "colab_type": "code",
        "colab": {}
      },
      "source": [
        "df"
      ],
      "execution_count": 0,
      "outputs": []
    },
    {
      "cell_type": "code",
      "metadata": {
        "id": "FJ7-QO5iGj3k",
        "colab_type": "code",
        "colab": {}
      },
      "source": [
        "# create a list of all the predictors you're going to feed into the LassoLarsCV model\n",
        "allvariablenames = list(df.columns.values)"
      ],
      "execution_count": 0,
      "outputs": []
    },
    {
      "cell_type": "code",
      "metadata": {
        "id": "E8eHKooYG1s5",
        "colab_type": "code",
        "colab": {}
      },
      "source": [
        "##load predictors into dataframe\n",
        "listvariable = allvariablenames[8:]\n",
        "predictors=df[listvariable]\n",
        "#load target into dataframe\n",
        "target = df['# Purchases']   "
      ],
      "execution_count": 0,
      "outputs": []
    },
    {
      "cell_type": "code",
      "metadata": {
        "id": "A5_MDtj5IsOk",
        "colab_type": "code",
        "colab": {}
      },
      "source": [
        "#check target\n",
        "target.head()"
      ],
      "execution_count": 0,
      "outputs": []
    },
    {
      "cell_type": "code",
      "metadata": {
        "id": "_o5xtPT4LLlC",
        "colab_type": "code",
        "colab": {}
      },
      "source": [
        "#split the data into training and test sets\n",
        "pred_train, pred_test, tar_train, tar_test = train_test_split(predictors, target, test_size=.3, random_state=123)"
      ],
      "execution_count": 0,
      "outputs": []
    },
    {
      "cell_type": "code",
      "metadata": {
        "id": "oxlpRpEgM3CU",
        "colab_type": "code",
        "colab": {}
      },
      "source": [
        "#(1) pred_train, the predictors training set (2) pred_test, the predictors test test (3) target_train, the target training set and (4) tar_test, the target test set\n",
        "model= LassoLarsCV(cv=10,precompute=False).fit(pred_train,tar_train)"
      ],
      "execution_count": 0,
      "outputs": []
    },
    {
      "cell_type": "markdown",
      "metadata": {
        "id": "hvWHn0v1NJ2L",
        "colab_type": "text"
      },
      "source": [
        "#Question1：bulit coefficent model chart\n"
      ]
    },
    {
      "cell_type": "code",
      "metadata": {
        "id": "-hTp6loTNQMA",
        "colab_type": "code",
        "colab": {}
      },
      "source": [
        "#load predictors into the model\n",
        "predictors_model=pd.DataFrame(listvariable)\n",
        "#rename the header of the model\n",
        "predictors_model.columns=['label']\n",
        "#creat a new column and load coeff to datafram\n",
        "predictors_model['coeff']=model.coef_"
      ],
      "execution_count": 0,
      "outputs": []
    },
    {
      "cell_type": "code",
      "metadata": {
        "id": "ZTpjoKb9NuiP",
        "colab_type": "code",
        "outputId": "3c78498b-22c7-44a6-f1ef-63acb47e19e6",
        "colab": {
          "base_uri": "https://localhost:8080/",
          "height": 177
        }
      },
      "source": [
        "#check the index and row of predictors\n",
        "for index, row in predictors_model.iterrows():\n",
        "#any coefficients that are non-zero are significant, and thus variables that truly predict unique amounts of sales\n",
        "  if row['coeff']>0:\n",
        "#print out the values\n",
        "    print(row.values)"
      ],
      "execution_count": 0,
      "outputs": [
        {
          "output_type": "stream",
          "text": [
            "['B01001014' 0.8558761066941788]\n",
            "['B01001036' 2.5053482381631653]\n",
            "['B01001037' 0.8892493223320962]\n",
            "['B01001038' 1.5316387928880384]\n",
            "['B02001005' 0.41252295298457853]\n",
            "['B13014026' 0.48004105312075906]\n",
            "['B13014027' 0.6978957445987839]\n",
            "['B13016001' 875149895.329212]\n",
            "['B19001017' 1.4834348068681533]\n"
          ],
          "name": "stdout"
        }
      ]
    },
    {
      "cell_type": "markdown",
      "metadata": {
        "id": "4ffpVgSlOID0",
        "colab_type": "text"
      },
      "source": [
        "Question2\n"
      ]
    },
    {
      "cell_type": "code",
      "metadata": {
        "id": "hXPT4Gg6OKeY",
        "colab_type": "code",
        "colab": {}
      },
      "source": [
        "# ['B01001014' 0.8557908775529921] Males aged 40 to 44 Years.\n",
        "# If there is one more Males aged 40-44 Years, we will sell 0. 8557908775529921 unit more Bobo Bars.\n",
        "# ['B01001036' 2.5053482381631653] Females aged 30 to 34 Years\n",
        "# If there is one more Females aged 30-34 Years, we will sell 2.5053482381631653 unit more Bobo Bars.\n",
        "# ['B01001037' 0.8892493223320962] Females aged 35 to 39 Years\n",
        "# If there is one more Females aged 35-39 Years, we will sell 0.8892493223320962 unit more Bobo Bars.\n",
        "# ['B01001038' 1.5316387928880384] Females aged 40 to 44 Years\n",
        "# If there is one more Females aged 40-44 Years, we will sell 1.5316387928880384 unit more Bobo Bars.\n",
        "# ['B02001005' 0.41252295298457853] Asian Alone\n",
        "# If there is one more Asian Alone, we will sell 0.41252295298457853 unit more Bobo Bars.\n",
        "# ['B13014026' 0.48004105312075906] Women 15 to 50 Years Who Had a Birth in the Past 12 Months with Bachelor's Degree\n",
        "# If there is one more Women 15 to 50 Years Who Had a Birth in the Past 12 Months with Bachelor's Degree, we will sell 0.48004105312075906 unit more Bobo Bars.\n",
        "## ['B13014027' 0.6978957445987839] Women 15 to 50 Years Who Had a Birth in the Past 12 Months with Graduate or Professional Degree\n",
        "# If there is one more Women 15 to 50 Years Who Had a Birth in the Past 12 Months with Graduate or Professional Degree, we will sell 0.6978957445987839 unit more Bobo Bars.\n",
        "\n",
        "# ['B13016001' 875149895.329212] Women 15 to 50 Years Who Had a Birth in the Past 12 Months\n",
        "# If there is one more Women 15 to 50 Years Who Had a Birth in the Past 12 Months, we will sell 875149895.329212 unit more Bobo Bars.\n",
        "\n",
        "# ['B19001017' 1.4834348068681533] Household with income $200,000 or More.\n",
        "# If there is one more Household with income $200,000 or More, we will sell 1.4834348068681533 unit more Bobo Bars."
      ],
      "execution_count": 0,
      "outputs": []
    },
    {
      "cell_type": "markdown",
      "metadata": {
        "id": "qDp_8Ac4UjRo",
        "colab_type": "text"
      },
      "source": [
        "# Question 3:\n",
        " If I had to report only two census variables to my boss that most steeply predicted sales, what would those be?"
      ]
    },
    {
      "cell_type": "code",
      "metadata": {
        "id": "2uUzjuo_Uo-W",
        "colab_type": "code",
        "colab": {}
      },
      "source": [
        "# According to coefficient, we will choose the higer values and the steeper the relationship between sales and that variable.\n",
        "#I will report B13016001 and B01001036 to my boss."
      ],
      "execution_count": 0,
      "outputs": []
    },
    {
      "cell_type": "markdown",
      "metadata": {
        "id": "p2nOWXxFV-EG",
        "colab_type": "text"
      },
      "source": [
        "#Question 4:\n"
      ]
    },
    {
      "cell_type": "code",
      "metadata": {
        "id": "pDrnZD4RWDrK",
        "colab_type": "code",
        "outputId": "58bf8f5d-54e4-47f8-c726-839e8121b1c6",
        "colab": {
          "base_uri": "https://localhost:8080/",
          "height": 52
        }
      },
      "source": [
        "#mean square error\n",
        "train_error_train = mean_squared_error(tar_train,model.predict(pred_train))\n",
        "print('training data MSE')\n",
        "print(train_error_train)"
      ],
      "execution_count": 0,
      "outputs": [
        {
          "output_type": "stream",
          "text": [
            "training data MSE\n",
            "22025.491066757\n"
          ],
          "name": "stdout"
        }
      ]
    },
    {
      "cell_type": "code",
      "metadata": {
        "id": "7jD1LzUGWAqU",
        "colab_type": "code",
        "outputId": "05b30cb4-d10b-4a2e-e5bb-998585bbb577",
        "colab": {
          "base_uri": "https://localhost:8080/",
          "height": 52
        }
      },
      "source": [
        "train_error_train=mean_squared_error(tar_test,model.predict(pred_test))\n",
        "print('testing data MSE')\n",
        "print(train_error_train)"
      ],
      "execution_count": 0,
      "outputs": [
        {
          "output_type": "stream",
          "text": [
            "testing data MSE\n",
            "41549.54803776253\n"
          ],
          "name": "stdout"
        }
      ]
    },
    {
      "cell_type": "code",
      "metadata": {
        "id": "RkfygzD4Xxi3",
        "colab_type": "code",
        "colab": {}
      },
      "source": [
        "#the mean squared error for training data is 22025.491066757\n",
        "#the mean squared error for testing data is 41549.54803776253\n",
        "#from the data above, we can easily find they are not similar. \n",
        "#MSE is a way to define how close between the regression and data. If the MSE smaller, the data is more fit to the regression line. \n",
        "#from the data, we can see the model is bulid by the data,therefor the MSE is resonable. "
      ],
      "execution_count": 0,
      "outputs": []
    },
    {
      "cell_type": "code",
      "metadata": {
        "id": "fOx9m3QwZTO3",
        "colab_type": "code",
        "outputId": "477c0834-aa2e-4cb2-9f0c-8617ac6b1955",
        "colab": {
          "base_uri": "https://localhost:8080/",
          "height": 52
        }
      },
      "source": [
        "#r squared\n",
        "rsquared_train=model.score(pred_train,tar_train)\n",
        "print('training data r-square')\n",
        "print(rsquared_train)"
      ],
      "execution_count": 0,
      "outputs": [
        {
          "output_type": "stream",
          "text": [
            "training data r-square\n",
            "0.2400221219784492\n"
          ],
          "name": "stdout"
        }
      ]
    },
    {
      "cell_type": "code",
      "metadata": {
        "id": "w9LzNr5CaUdu",
        "colab_type": "code",
        "outputId": "506f877a-c32e-4287-ff4e-b05aa624d33c",
        "colab": {
          "base_uri": "https://localhost:8080/",
          "height": 52
        }
      },
      "source": [
        "#r squared\n",
        "rsquared_train=model.score(pred_test,tar_test)\n",
        "print('testing data r-square')\n",
        "print(rsquared_train)"
      ],
      "execution_count": 0,
      "outputs": [
        {
          "output_type": "stream",
          "text": [
            "testing data r-square\n",
            "0.1758628512005107\n"
          ],
          "name": "stdout"
        }
      ]
    },
    {
      "cell_type": "code",
      "metadata": {
        "id": "zOPktFtwajli",
        "colab_type": "code",
        "colab": {}
      },
      "source": [
        "#From the two r-squared, we can see that trainging data is better then testing data for regression model. But both of them are not very good. "
      ],
      "execution_count": 0,
      "outputs": []
    },
    {
      "cell_type": "markdown",
      "metadata": {
        "id": "rv_0_aOobCgF",
        "colab_type": "text"
      },
      "source": [
        "Question 5"
      ]
    },
    {
      "cell_type": "code",
      "metadata": {
        "id": "nIoufowFbE13",
        "colab_type": "code",
        "colab": {}
      },
      "source": [
        "# this census is not a good way for prediction, In both training date set and the testing data set, the MSE is too higher and R-squared value is too small which means are not sufficient enough to make prediction about the sales."
      ],
      "execution_count": 0,
      "outputs": []
    },
    {
      "cell_type": "markdown",
      "metadata": {
        "id": "-g5o7PywcFr9",
        "colab_type": "text"
      },
      "source": [
        "Question 6\n"
      ]
    },
    {
      "cell_type": "code",
      "metadata": {
        "id": "KHcI6hREcHmh",
        "colab_type": "code",
        "outputId": "29c8bf35-309c-41cb-9c93-eb1cdf0a172f",
        "colab": {
          "base_uri": "https://localhost:8080/",
          "height": 52
        }
      },
      "source": [
        "print(\"y-intercept\")\n",
        "print(model.intercept_)"
      ],
      "execution_count": 0,
      "outputs": [
        {
          "output_type": "stream",
          "text": [
            "y-intercept\n",
            "22.19738813257551\n"
          ],
          "name": "stdout"
        }
      ]
    },
    {
      "cell_type": "code",
      "metadata": {
        "id": "2iuLAvRKcZWi",
        "colab_type": "code",
        "colab": {}
      },
      "source": [
        "# the y-intercept is 22.19738813257551 when x=0. in other word, We have the baseline sales number is 22.19738813257551 "
      ],
      "execution_count": 0,
      "outputs": []
    }
  ]
}