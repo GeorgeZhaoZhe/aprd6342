{
  "nbformat": 4,
  "nbformat_minor": 0,
  "metadata": {
    "colab": {
      "name": "python lesson 4.ipynb",
      "provenance": []
    },
    "kernelspec": {
      "name": "python3",
      "display_name": "Python 3"
    }
  },
  "cells": [
    {
      "cell_type": "code",
      "metadata": {
        "id": "JDHMKd2qsrG0",
        "colab_type": "code",
        "colab": {}
      },
      "source": [
        "import pandas as pd\n",
        "import pandas\n",
        "import requests\n",
        "import json\n",
        "import urllib \n",
        "from urllib.request import Request, urlopen"
      ],
      "execution_count": 0,
      "outputs": []
    },
    {
      "cell_type": "code",
      "metadata": {
        "id": "F981eF8SsyYd",
        "colab_type": "code",
        "outputId": "8327499e-5e15-47af-af2a-8e9d2cc3a04b",
        "colab": {
          "base_uri": "https://localhost:8080/",
          "height": 34
        }
      },
      "source": [
        "from google.colab import drive\n",
        "drive.mount('/content/drive')\n",
        "df = pd.read_csv(open('drive/My Drive/Colab Notebooks/msas.csv', 'rb'))"
      ],
      "execution_count": 0,
      "outputs": [
        {
          "output_type": "stream",
          "text": [
            "Drive already mounted at /content/drive; to attempt to forcibly remount, call drive.mount(\"/content/drive\", force_remount=True).\n"
          ],
          "name": "stdout"
        }
      ]
    },
    {
      "cell_type": "code",
      "metadata": {
        "id": "PwjKHwDZs443",
        "colab_type": "code",
        "outputId": "b008f217-671b-4ed2-cb6d-e276598777c5",
        "colab": {
          "base_uri": "https://localhost:8080/",
          "height": 199
        }
      },
      "source": [
        "df.head()"
      ],
      "execution_count": 0,
      "outputs": [
        {
          "output_type": "execute_result",
          "data": {
            "text/html": [
              "<div>\n",
              "<style scoped>\n",
              "    .dataframe tbody tr th:only-of-type {\n",
              "        vertical-align: middle;\n",
              "    }\n",
              "\n",
              "    .dataframe tbody tr th {\n",
              "        vertical-align: top;\n",
              "    }\n",
              "\n",
              "    .dataframe thead th {\n",
              "        text-align: right;\n",
              "    }\n",
              "</style>\n",
              "<table border=\"1\" class=\"dataframe\">\n",
              "  <thead>\n",
              "    <tr style=\"text-align: right;\">\n",
              "      <th></th>\n",
              "      <th>CBSA</th>\n",
              "      <th>NAME</th>\n",
              "      <th>POPESTIMATE2017</th>\n",
              "    </tr>\n",
              "  </thead>\n",
              "  <tbody>\n",
              "    <tr>\n",
              "      <th>0</th>\n",
              "      <td>10180</td>\n",
              "      <td>Abilene, TX</td>\n",
              "      <td>170219</td>\n",
              "    </tr>\n",
              "    <tr>\n",
              "      <th>1</th>\n",
              "      <td>10420</td>\n",
              "      <td>Akron, OH</td>\n",
              "      <td>703505</td>\n",
              "    </tr>\n",
              "    <tr>\n",
              "      <th>2</th>\n",
              "      <td>10500</td>\n",
              "      <td>Albany, GA</td>\n",
              "      <td>151434</td>\n",
              "    </tr>\n",
              "    <tr>\n",
              "      <th>3</th>\n",
              "      <td>10540</td>\n",
              "      <td>Albany, OR</td>\n",
              "      <td>125047</td>\n",
              "    </tr>\n",
              "    <tr>\n",
              "      <th>4</th>\n",
              "      <td>10580</td>\n",
              "      <td>Albany-Schenectady-Troy, NY</td>\n",
              "      <td>886188</td>\n",
              "    </tr>\n",
              "  </tbody>\n",
              "</table>\n",
              "</div>"
            ],
            "text/plain": [
              "    CBSA                         NAME  POPESTIMATE2017\n",
              "0  10180                  Abilene, TX           170219\n",
              "1  10420                    Akron, OH           703505\n",
              "2  10500                   Albany, GA           151434\n",
              "3  10540                   Albany, OR           125047\n",
              "4  10580  Albany-Schenectady-Troy, NY           886188"
            ]
          },
          "metadata": {
            "tags": []
          },
          "execution_count": 73
        }
      ]
    },
    {
      "cell_type": "code",
      "metadata": {
        "id": "_n4WKPXGs9Eg",
        "colab_type": "code",
        "colab": {}
      },
      "source": [
        "geoid = '31000US'+ df['CBSA'].astype(str)\n",
        "Half = geoid[:len(geoid)//2]\n",
        "Res = geoid[len(geoid)//2:]\n",
        "\n",
        "Half = ','.join(Half)\n",
        "Res = ','.join(Res)"
      ],
      "execution_count": 0,
      "outputs": []
    },
    {
      "cell_type": "markdown",
      "metadata": {
        "id": "3TqJFGcoxTN5",
        "colab_type": "text"
      },
      "source": [
        "Question 1: What city has the higest count of the audience you chose for parameter"
      ]
    },
    {
      "cell_type": "code",
      "metadata": {
        "id": "bO649fB7uBwu",
        "colab_type": "code",
        "colab": {}
      },
      "source": [
        "tid = ['B19001']\n",
        "tstring =','.join(tid)"
      ],
      "execution_count": 0,
      "outputs": []
    },
    {
      "cell_type": "code",
      "metadata": {
        "id": "8oUbxYibuX1A",
        "colab_type": "code",
        "colab": {}
      },
      "source": [
        "reqtur='http://api.censusreporter.org/1.0/data/show/latest?table_ids=%s&geo_ids=%s' % (tstring,Half)\n",
        "loadjson = requests.get(reqtur)\n",
        "parsjson1 = json.loads(loadjson.text)\n",
        "\n",
        "reqtur='http://api.censusreporter.org/1.0/data/show/latest?table_ids=%s&geo_ids=%s' % (tstring,Res)\n",
        "loadjson = requests.get(reqtur)\n",
        "parsjson2 = json.loads(loadjson.text)\n"
      ],
      "execution_count": 0,
      "outputs": []
    },
    {
      "cell_type": "code",
      "metadata": {
        "id": "ZWQeIIhavYtB",
        "colab_type": "code",
        "colab": {}
      },
      "source": [
        "HH=pd.DataFrame(columns=['country','population'], index=list(range(1,len(geoid))))"
      ],
      "execution_count": 0,
      "outputs": []
    },
    {
      "cell_type": "code",
      "metadata": {
        "id": "F6BBp-yQvrtA",
        "colab_type": "code",
        "colab": {}
      },
      "source": [
        "for i in list(range(1,len(geoid)//2)):\n",
        "  HH['country'][i]=[geoid[i]]\n",
        "  HH['population'][i]=parsjson1['data'][geoid[i]]['B19001']['estimate']['B19001011']+parsjson1['data'][geoid[i]]['B19001']['estimate']['B19001012']"
      ],
      "execution_count": 0,
      "outputs": []
    },
    {
      "cell_type": "code",
      "metadata": {
        "id": "MlAcgP8owegS",
        "colab_type": "code",
        "colab": {}
      },
      "source": [
        "for i in list(range(192,len(geoid))):\n",
        "  HH['country'][i]=[geoid[i]]\n",
        "  HH['population'][i]=parsjson2['data'][geoid[i]]['B19001']['estimate']['B19001011']+parsjson2['data'][geoid[i]]['B19001']['estimate']['B19001012']"
      ],
      "execution_count": 0,
      "outputs": []
    },
    {
      "cell_type": "code",
      "metadata": {
        "id": "vKl8ttOawrjl",
        "colab_type": "code",
        "outputId": "9dc30900-e51e-42bc-d2a1-0715628dcbb3",
        "colab": {
          "base_uri": "https://localhost:8080/",
          "height": 52
        }
      },
      "source": [
        "print(HH.loc[HH['population']== max(HH['population'])])"
      ],
      "execution_count": 0,
      "outputs": [
        {
          "output_type": "stream",
          "text": [
            "            country   population\n",
            "249  [31000US35620]  1.01121e+06\n"
          ],
          "name": "stdout"
        }
      ]
    },
    {
      "cell_type": "code",
      "metadata": {
        "id": "VhXCy6kEw56e",
        "colab_type": "code",
        "outputId": "1d70dcbd-5b7f-458c-cc1f-e5a1f63e4755",
        "colab": {
          "base_uri": "https://localhost:8080/",
          "height": 52
        }
      },
      "source": [
        "print(df.loc[df['CBSA']== 35620])"
      ],
      "execution_count": 0,
      "outputs": [
        {
          "output_type": "stream",
          "text": [
            "      CBSA                                   NAME  POPESTIMATE2017\n",
            "249  35620  New York-Newark-Jersey City, NY-NJ-PA         20320876\n"
          ],
          "name": "stdout"
        }
      ]
    },
    {
      "cell_type": "markdown",
      "metadata": {
        "id": "AGxOfvk3xm_E",
        "colab_type": "text"
      },
      "source": [
        "New York-Newark-Jersey City has the higest count of the audience you chose for parameter. The range between 50K to 74.9 K with 1.01121e+06"
      ]
    },
    {
      "cell_type": "markdown",
      "metadata": {
        "id": "hJ26vB_byQUc",
        "colab_type": "text"
      },
      "source": [
        "Question 2: What city has the higest count of audience you chose for parameter"
      ]
    },
    {
      "cell_type": "code",
      "metadata": {
        "id": "CN3pWoqJyNyF",
        "colab_type": "code",
        "colab": {}
      },
      "source": [
        "tid2=['B01001']\n",
        "tstring2=','.join(tid2)"
      ],
      "execution_count": 0,
      "outputs": []
    },
    {
      "cell_type": "code",
      "metadata": {
        "id": "771_vWTFyofX",
        "colab_type": "code",
        "colab": {}
      },
      "source": [
        "reqtur='http://api.censusreporter.org/1.0/data/show/latest?table_ids=%s&geo_ids=%s' % (tstring2,Half)\n",
        "loadjson = requests.get(reqtur)\n",
        "parsjson21 = json.loads(loadjson.text)\n",
        "\n",
        "reqtur='http://api.censusreporter.org/1.0/data/show/latest?table_ids=%s&geo_ids=%s' % (tstring2,Res)\n",
        "loadjson = requests.get(reqtur)\n",
        "parsjson22 = json.loads(loadjson.text)"
      ],
      "execution_count": 0,
      "outputs": []
    },
    {
      "cell_type": "code",
      "metadata": {
        "id": "ImZcZEjVzJjS",
        "colab_type": "code",
        "colab": {}
      },
      "source": [
        "age = ['B01001007','B01001008','B01001009','B01001010','B01001011','B01001012']"
      ],
      "execution_count": 0,
      "outputs": []
    },
    {
      "cell_type": "code",
      "metadata": {
        "id": "YDSnYNoNziGR",
        "colab_type": "code",
        "colab": {}
      },
      "source": [
        "df1 = pd.DataFrame(columns=['location','population'],index=list(range(1,len(geoid))))"
      ],
      "execution_count": 0,
      "outputs": []
    },
    {
      "cell_type": "code",
      "metadata": {
        "id": "esNL683MziIf",
        "colab_type": "code",
        "colab": {}
      },
      "source": [
        "for i in list(range(1,len(geoid)//2)):\n",
        "  df1['location'][i]=[geoid[i]]\n",
        "  df1['population'][i]=parsjson21['data'][geoid[i]]['B01001']['estimate'][age[0]]+parsjson21['data'][geoid[i]]['B01001']['estimate'][age[1]]+parsjson21['data'][geoid[i]]['B01001']['estimate'][age[2]]+parsjson21['data'][geoid[i]]['B01001']['estimate'][age[3]]+parsjson21['data'][geoid[i]]['B01001']['estimate'][age[4]]+parsjson21['data'][geoid[i]]['B01001']['estimate'][age[5]]"
      ],
      "execution_count": 0,
      "outputs": []
    },
    {
      "cell_type": "code",
      "metadata": {
        "id": "zKfWKzOC1MUK",
        "colab_type": "code",
        "colab": {}
      },
      "source": [
        "for i in list(range(192,len(geoid))):\n",
        "  df1['location'][i]=[geoid[i]]\n",
        "  df1['population'][i]=parsjson22['data'][geoid[i]]['B01001']['estimate'][age[0]]+parsjson22['data'][geoid[i]]['B01001']['estimate'][age[1]]+parsjson22['data'][geoid[i]]['B01001']['estimate'][age[2]]+parsjson22['data'][geoid[i]]['B01001']['estimate'][age[3]]+parsjson22['data'][geoid[i]]['B01001']['estimate'][age[4]]+parsjson22['data'][geoid[i]]['B01001']['estimate'][age[5]]"
      ],
      "execution_count": 0,
      "outputs": []
    },
    {
      "cell_type": "code",
      "metadata": {
        "id": "tCv9ngLX1tG5",
        "colab_type": "code",
        "outputId": "1a0721e6-c306-4fdb-b2fd-70df60b252f8",
        "colab": {
          "base_uri": "https://localhost:8080/",
          "height": 52
        }
      },
      "source": [
        "print(df1.loc[df1['population']== max(df1['population'])])"
      ],
      "execution_count": 0,
      "outputs": [
        {
          "output_type": "stream",
          "text": [
            "           location   population\n",
            "249  [31000US35620]  2.33054e+06\n"
          ],
          "name": "stdout"
        }
      ]
    },
    {
      "cell_type": "code",
      "metadata": {
        "id": "vHmD_EtO17cs",
        "colab_type": "code",
        "outputId": "50e6950d-c43e-41c7-9c44-e13ec5bc4b3b",
        "colab": {
          "base_uri": "https://localhost:8080/",
          "height": 52
        }
      },
      "source": [
        "print(df.loc[df['CBSA']== 35620])"
      ],
      "execution_count": 0,
      "outputs": [
        {
          "output_type": "stream",
          "text": [
            "      CBSA                                   NAME  POPESTIMATE2017\n",
            "249  35620  New York-Newark-Jersey City, NY-NJ-PA         20320876\n"
          ],
          "name": "stdout"
        }
      ]
    },
    {
      "cell_type": "markdown",
      "metadata": {
        "id": "eDmhxqDm2Kkl",
        "colab_type": "text"
      },
      "source": [
        "New York-Newark-Jersey City has the higest count of age range from 18 to 34 with 2.33054e+06"
      ]
    },
    {
      "cell_type": "markdown",
      "metadata": {
        "id": "HgOO-1Jb2ibA",
        "colab_type": "text"
      },
      "source": [
        "Qustion 3: What city has the highest count of the audience you choose for parameter."
      ]
    },
    {
      "cell_type": "code",
      "metadata": {
        "id": "N80LJeMK2vGI",
        "colab_type": "code",
        "colab": {}
      },
      "source": [
        "tid3=['B03003']\n",
        "tstring3 = ','.join(tid3)"
      ],
      "execution_count": 0,
      "outputs": []
    },
    {
      "cell_type": "code",
      "metadata": {
        "id": "vlDfiAN33JDl",
        "colab_type": "code",
        "colab": {}
      },
      "source": [
        "reqtur='http://api.censusreporter.org/1.0/data/show/latest?table_ids=%s&geo_ids=%s' % (tstring3,Half)\n",
        "loadjson = requests.get(reqtur)\n",
        "parsjson31 = json.loads(loadjson.text)\n",
        "\n",
        "reqtur='http://api.censusreporter.org/1.0/data/show/latest?table_ids=%s&geo_ids=%s' % (tstring3,Res)\n",
        "loadjson = requests.get(reqtur)\n",
        "parsjson32 = json.loads(loadjson.text)"
      ],
      "execution_count": 0,
      "outputs": []
    },
    {
      "cell_type": "code",
      "metadata": {
        "id": "JbXm7YnO3c5R",
        "colab_type": "code",
        "colab": {}
      },
      "source": [
        "df2 = pd.DataFrame(columns=['location','population'],index=list(range(1,len(geoid))))"
      ],
      "execution_count": 0,
      "outputs": []
    },
    {
      "cell_type": "code",
      "metadata": {
        "id": "c9XyEHth4EIW",
        "colab_type": "code",
        "colab": {}
      },
      "source": [
        "for i in list(range(1,len(geoid)//2)):\n",
        "  df2['location'][i]=[geoid[i]]\n",
        "  df2['population'][i]=parsjson31['data'][geoid[i]]['B03003']['estimate']['B03003003']"
      ],
      "execution_count": 0,
      "outputs": []
    },
    {
      "cell_type": "code",
      "metadata": {
        "id": "XCESdryZ4sl5",
        "colab_type": "code",
        "colab": {}
      },
      "source": [
        "for i in list(range(192,len(geoid))):\n",
        "  df2['location'][i]=[geoid[i]]\n",
        "  df2['population'][i]=parsjson32['data'][geoid[i]]['B03003']['estimate']['B03003003']"
      ],
      "execution_count": 0,
      "outputs": []
    },
    {
      "cell_type": "code",
      "metadata": {
        "id": "AKLiYnTQ7MLW",
        "colab_type": "code",
        "outputId": "8d72a18f-5c9a-463a-dd1b-a741147b724b",
        "colab": {
          "base_uri": "https://localhost:8080/",
          "height": 52
        }
      },
      "source": [
        "print(df2.loc[df2['population']== max(df2['population'])])"
      ],
      "execution_count": 0,
      "outputs": [
        {
          "output_type": "stream",
          "text": [
            "           location   population\n",
            "210  [31000US31080]  6.00354e+06\n"
          ],
          "name": "stdout"
        }
      ]
    },
    {
      "cell_type": "code",
      "metadata": {
        "id": "vbmSaDLr7ab0",
        "colab_type": "code",
        "outputId": "4cb86bd8-95c6-4b63-ce6e-a1a608cecb60",
        "colab": {
          "base_uri": "https://localhost:8080/",
          "height": 52
        }
      },
      "source": [
        "print(df.loc[df['CBSA']==31080])"
      ],
      "execution_count": 0,
      "outputs": [
        {
          "output_type": "stream",
          "text": [
            "      CBSA                                NAME  POPESTIMATE2017\n",
            "210  31080  Los Angeles-Long Beach-Anaheim, CA         13353907\n"
          ],
          "name": "stdout"
        }
      ]
    },
    {
      "cell_type": "markdown",
      "metadata": {
        "id": "mG1IOo797kSe",
        "colab_type": "text"
      },
      "source": [
        "Los Angeles-Long Beach-Anaheim has the highest count of hispanic with 6.00354e+06"
      ]
    },
    {
      "cell_type": "markdown",
      "metadata": {
        "id": "GAXQ8B8m8G-x",
        "colab_type": "text"
      },
      "source": [
        "Question 3: What city has the highest mean percentage across all three categories?"
      ]
    },
    {
      "cell_type": "code",
      "metadata": {
        "id": "FBA4qQnz7xYM",
        "colab_type": "code",
        "colab": {}
      },
      "source": [
        "percentage_income = []\n",
        "percentage_age = []\n",
        "percentage_hispanic = []"
      ],
      "execution_count": 0,
      "outputs": []
    },
    {
      "cell_type": "code",
      "metadata": {
        "id": "zf7g-aPF8k9C",
        "colab_type": "code",
        "colab": {}
      },
      "source": [
        "for i, row in HH.iterrows():\n",
        "  income = HH['population'][i]/max(HH['population'])\n",
        "  ageP = df1['population'][i]/max(df1['population'])\n",
        "  hispanic = df2['population'][i]/max(df2['population'])\n",
        "  percentage_income.append(income)\n",
        "  percentage_age.append(ageP)\n",
        "  percentage_hispanic.append(hispanic)"
      ],
      "execution_count": 0,
      "outputs": []
    },
    {
      "cell_type": "code",
      "metadata": {
        "id": "DRAMzwld94d_",
        "colab_type": "code",
        "colab": {}
      },
      "source": [
        "HH['percentage']=percentage_income\n",
        "df1['percentage']= percentage_age\n",
        "df2['percentage']= percentage_hispanic"
      ],
      "execution_count": 0,
      "outputs": []
    },
    {
      "cell_type": "code",
      "metadata": {
        "id": "ZMg8uENH-Mo9",
        "colab_type": "code",
        "colab": {}
      },
      "source": [
        "MEAN=[]"
      ],
      "execution_count": 0,
      "outputs": []
    },
    {
      "cell_type": "code",
      "metadata": {
        "id": "sV6sg8y1-OSg",
        "colab_type": "code",
        "colab": {}
      },
      "source": [
        "for i, row in HH.iterrows():\n",
        "  m= (HH['percentage'][i]+df1['percentage'][i]+df2['percentage'][i])/3\n",
        "  MEAN.append(m)\n",
        "HH['the mean percentage'] = MEAN"
      ],
      "execution_count": 0,
      "outputs": []
    },
    {
      "cell_type": "code",
      "metadata": {
        "id": "9a2AlJca-4ej",
        "colab_type": "code",
        "outputId": "639c042a-fd36-4424-f5df-ce193c9f06f5",
        "colab": {
          "base_uri": "https://localhost:8080/",
          "height": 52
        }
      },
      "source": [
        "print(HH.loc[HH['the mean percentage']==max(HH['the mean percentage'])])"
      ],
      "execution_count": 0,
      "outputs": [
        {
          "output_type": "stream",
          "text": [
            "            country   population  percentage  the mean percentage\n",
            "249  [31000US35620]  1.01121e+06         1.0             0.940082\n"
          ],
          "name": "stdout"
        }
      ]
    },
    {
      "cell_type": "code",
      "metadata": {
        "id": "R5KXHik9_Ock",
        "colab_type": "code",
        "outputId": "49893a57-148c-4067-beea-0e16b7fb69c0",
        "colab": {
          "base_uri": "https://localhost:8080/",
          "height": 52
        }
      },
      "source": [
        "print(df.loc[df['CBSA']==35620])"
      ],
      "execution_count": 0,
      "outputs": [
        {
          "output_type": "stream",
          "text": [
            "      CBSA                                   NAME  POPESTIMATE2017\n",
            "249  35620  New York-Newark-Jersey City, NY-NJ-PA         20320876\n"
          ],
          "name": "stdout"
        }
      ]
    },
    {
      "cell_type": "markdown",
      "metadata": {
        "id": "6X7xsrFU_mw1",
        "colab_type": "text"
      },
      "source": [
        "New York-Newark-Jersey City has the highest mean percentage across all three categories with 0.940082"
      ]
    }
  ]
}