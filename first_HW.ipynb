{
  "nbformat": 4,
  "nbformat_minor": 0,
  "metadata": {
    "colab": {
      "name": "first HW.ipynb",
      "provenance": []
    },
    "kernelspec": {
      "name": "python3",
      "display_name": "Python 3"
    }
  },
  "cells": [
    {
      "cell_type": "code",
      "metadata": {
        "id": "XVRWHpi0jDxA",
        "colab_type": "code",
        "outputId": "768fe651-0ac5-4483-cd5e-98f053851562",
        "colab": {
          "base_uri": "https://localhost:8080/",
          "height": 139
        }
      },
      "source": [
        "pip install -U arrow"
      ],
      "execution_count": 0,
      "outputs": [
        {
          "output_type": "stream",
          "text": [
            "Collecting arrow\n",
            "\u001b[?25l  Downloading https://files.pythonhosted.org/packages/a1/39/a8e116084cf4160f0821ca9bb84ec312ccca84caa2b2bffb70d95d47f91f/arrow-0.15.4-py2.py3-none-any.whl (45kB)\n",
            "\r\u001b[K     |███████▎                        | 10kB 16.4MB/s eta 0:00:01\r\u001b[K     |██████████████▌                 | 20kB 1.7MB/s eta 0:00:01\r\u001b[K     |█████████████████████▊          | 30kB 2.5MB/s eta 0:00:01\r\u001b[K     |█████████████████████████████   | 40kB 1.7MB/s eta 0:00:01\r\u001b[K     |████████████████████████████████| 51kB 1.6MB/s \n",
            "\u001b[?25hRequirement already satisfied, skipping upgrade: python-dateutil in /usr/local/lib/python3.6/dist-packages (from arrow) (2.6.1)\n",
            "Requirement already satisfied, skipping upgrade: six>=1.5 in /usr/local/lib/python3.6/dist-packages (from python-dateutil->arrow) (1.12.0)\n",
            "Installing collected packages: arrow\n",
            "Successfully installed arrow-0.15.4\n"
          ],
          "name": "stdout"
        }
      ]
    },
    {
      "cell_type": "code",
      "metadata": {
        "id": "lI1ylsBiaJfM",
        "colab_type": "code",
        "outputId": "e4a7ae4e-50e4-467f-b7ef-9ae8a0b9bae2",
        "colab": {
          "base_uri": "https://localhost:8080/",
          "height": 124
        }
      },
      "source": [
        "from IPython.core.interactiveshell import InteractiveShell\n",
        "InteractiveShell.ast_node_interactivity = \"all\"\n",
        "import pandas as pd\n",
        "from google.colab import drive\n",
        "drive.mount('/content/drive')\n",
        "df = pd.read_csv(open('drive/My Drive/Colab Notebooks/Travel Pony Facebook.csv', 'rb'))"
      ],
      "execution_count": 0,
      "outputs": [
        {
          "output_type": "stream",
          "text": [
            "Go to this URL in a browser: https://accounts.google.com/o/oauth2/auth?client_id=947318989803-6bn6qk8qdgf4n4g3pfee6491hc0brc4i.apps.googleusercontent.com&redirect_uri=urn%3Aietf%3Awg%3Aoauth%3A2.0%3Aoob&scope=email%20https%3A%2F%2Fwww.googleapis.com%2Fauth%2Fdocs.test%20https%3A%2F%2Fwww.googleapis.com%2Fauth%2Fdrive%20https%3A%2F%2Fwww.googleapis.com%2Fauth%2Fdrive.photos.readonly%20https%3A%2F%2Fwww.googleapis.com%2Fauth%2Fpeopleapi.readonly&response_type=code\n",
            "\n",
            "Enter your authorization code:\n",
            "··········\n",
            "Mounted at /content/drive\n"
          ],
          "name": "stdout"
        }
      ]
    },
    {
      "cell_type": "code",
      "metadata": {
        "id": "6bvesMwokPfX",
        "colab_type": "code",
        "outputId": "c05bffa7-4e5a-474c-d88f-3b987f347085",
        "colab": {
          "base_uri": "https://localhost:8080/",
          "height": 35
        }
      },
      "source": [
        "import datetime\n",
        "datetime.datetime.today()"
      ],
      "execution_count": 0,
      "outputs": [
        {
          "output_type": "execute_result",
          "data": {
            "text/plain": [
              "datetime.datetime(2019, 11, 12, 17, 26, 38, 39604)"
            ]
          },
          "metadata": {
            "tags": []
          },
          "execution_count": 2
        }
      ]
    },
    {
      "cell_type": "code",
      "metadata": {
        "id": "nCr0y_10cSM_",
        "colab_type": "code",
        "colab": {}
      },
      "source": [
        "##dt = arrow.get(row['Start Date'], 'M/D/YY')\n",
        "##dayoftheweek = dt.isoweekday()"
      ],
      "execution_count": 0,
      "outputs": []
    },
    {
      "cell_type": "code",
      "metadata": {
        "id": "_YvsMXiMfXGG",
        "colab_type": "code",
        "outputId": "eefd0ef9-99e8-4665-e11d-676a03035481",
        "colab": {
          "base_uri": "https://localhost:8080/",
          "height": 35
        }
      },
      "source": [
        "df['cost per impression']=df['Amount Spent (USD)']/df.Impressions\n",
        "df.max()['cost per impression']"
      ],
      "execution_count": 0,
      "outputs": [
        {
          "output_type": "execute_result",
          "data": {
            "text/plain": [
              "0.31"
            ]
          },
          "metadata": {
            "tags": []
          },
          "execution_count": 3
        }
      ]
    },
    {
      "cell_type": "code",
      "metadata": {
        "id": "KmFTxttqkhLY",
        "colab_type": "code",
        "outputId": "30af8b81-9c95-4814-9838-962d09d9ca22",
        "colab": {
          "base_uri": "https://localhost:8080/",
          "height": 35
        }
      },
      "source": [
        "df.min()['cost per impression']"
      ],
      "execution_count": 0,
      "outputs": [
        {
          "output_type": "execute_result",
          "data": {
            "text/plain": [
              "0.0"
            ]
          },
          "metadata": {
            "tags": []
          },
          "execution_count": 4
        }
      ]
    },
    {
      "cell_type": "code",
      "metadata": {
        "id": "V1G-MfeUlHpf",
        "colab_type": "code",
        "colab": {}
      },
      "source": [
        "df['Start Date']=pd.to_datetime(df['Start Date'])\n",
        "df['weekday']= df['Start Date'].apply(lambda time: time.strftime('%A'))\n",
        "df.head(5)"
      ],
      "execution_count": 0,
      "outputs": []
    },
    {
      "cell_type": "code",
      "metadata": {
        "id": "5EemqzMeGkL5",
        "colab_type": "code",
        "colab": {}
      },
      "source": [
        "day=df.groupby('weekday')['cost per impression'].mean()"
      ],
      "execution_count": 0,
      "outputs": []
    },
    {
      "cell_type": "code",
      "metadata": {
        "id": "wuTa1b1cJTtC",
        "colab_type": "code",
        "outputId": "650a441e-4674-4789-dcb3-0b72d403da94",
        "colab": {
          "base_uri": "https://localhost:8080/",
          "height": 104
        }
      },
      "source": [
        "daymax=day.nlargest(1)\n",
        "daymax\n",
        "daymin=day.nsmallest(1)\n",
        "daymin"
      ],
      "execution_count": 0,
      "outputs": [
        {
          "output_type": "execute_result",
          "data": {
            "text/plain": [
              "weekday\n",
              "Friday    0.004097\n",
              "Name: cost per impression, dtype: float64"
            ]
          },
          "metadata": {
            "tags": []
          },
          "execution_count": 8
        },
        {
          "output_type": "execute_result",
          "data": {
            "text/plain": [
              "weekday\n",
              "Saturday    0.002629\n",
              "Name: cost per impression, dtype: float64"
            ]
          },
          "metadata": {
            "tags": []
          },
          "execution_count": 8
        }
      ]
    },
    {
      "cell_type": "code",
      "metadata": {
        "id": "hWfo4Dw-YS3l",
        "colab_type": "code",
        "outputId": "adb58c81-02db-4c23-aca1-0a090450203f",
        "colab": {
          "base_uri": "https://localhost:8080/",
          "height": 35
        }
      },
      "source": [
        "print(\"1): The best day of week is Saturday (0.002629) & The worst day of week is Friady (0.004097) when corsidering 'cost per impression'\")"
      ],
      "execution_count": 0,
      "outputs": [
        {
          "output_type": "stream",
          "text": [
            "1): The best day of week is Saturday (0.002629) & The worst day of week is Friady (0.004097) when corsidering 'cost per impression'\n"
          ],
          "name": "stdout"
        }
      ]
    },
    {
      "cell_type": "code",
      "metadata": {
        "id": "cq-6hnK5KlBw",
        "colab_type": "code",
        "colab": {}
      },
      "source": [
        "#### corrlation ###"
      ],
      "execution_count": 0,
      "outputs": []
    },
    {
      "cell_type": "code",
      "metadata": {
        "id": "fGSFrV0vKoNa",
        "colab_type": "code",
        "colab": {}
      },
      "source": [
        "cor=df.corr()\n",
        "cor"
      ],
      "execution_count": 0,
      "outputs": []
    },
    {
      "cell_type": "code",
      "metadata": {
        "id": "AXkzLR8-LWl8",
        "colab_type": "code",
        "outputId": "236aee23-346b-44e5-e364-ee23f754205e",
        "colab": {
          "base_uri": "https://localhost:8080/",
          "height": 104
        }
      },
      "source": [
        "fourcor=cor.iloc[[0,1,4,6],5]\n",
        "fourcor"
      ],
      "execution_count": 0,
      "outputs": [
        {
          "output_type": "execute_result",
          "data": {
            "text/plain": [
              "Reach            0.703124\n",
              "Frequency        0.130201\n",
              "Unique Clicks    0.882993\n",
              "Page Likes       0.757612\n",
              "Name: Amount Spent (USD), dtype: float64"
            ]
          },
          "metadata": {
            "tags": []
          },
          "execution_count": 10
        }
      ]
    },
    {
      "cell_type": "code",
      "metadata": {
        "id": "CI971s4EMDBs",
        "colab_type": "code",
        "outputId": "e8d1fab0-bdae-4fba-c1e9-0012cc19c99f",
        "colab": {
          "base_uri": "https://localhost:8080/",
          "height": 52
        }
      },
      "source": [
        "maxcor=fourcor.nlargest(1)\n",
        "maxcor"
      ],
      "execution_count": 0,
      "outputs": [
        {
          "output_type": "execute_result",
          "data": {
            "text/plain": [
              "Unique Clicks    0.882993\n",
              "Name: Amount Spent (USD), dtype: float64"
            ]
          },
          "metadata": {
            "tags": []
          },
          "execution_count": 11
        }
      ]
    },
    {
      "cell_type": "code",
      "metadata": {
        "id": "iT2sgD3VMpq4",
        "colab_type": "code",
        "outputId": "6766b373-9701-4c02-9b89-25821f721a1c",
        "colab": {
          "base_uri": "https://localhost:8080/",
          "height": 52
        }
      },
      "source": [
        "mincor=fourcor.nsmallest(1)\n",
        "mincor"
      ],
      "execution_count": 0,
      "outputs": [
        {
          "output_type": "execute_result",
          "data": {
            "text/plain": [
              "Frequency    0.130201\n",
              "Name: Amount Spent (USD), dtype: float64"
            ]
          },
          "metadata": {
            "tags": []
          },
          "execution_count": 12
        }
      ]
    },
    {
      "cell_type": "code",
      "metadata": {
        "id": "h7xi5ORjNPSK",
        "colab_type": "code",
        "colab": {}
      },
      "source": [
        "print(\"2):The most strongest one is Unique Clicks which is 0.882993, and this date is positive and almost close to 1 point, which means the more unique click goes up, the more Amont spent increase.  \")"
      ],
      "execution_count": 0,
      "outputs": []
    },
    {
      "cell_type": "code",
      "metadata": {
        "id": "rWXbfUSEM7u1",
        "colab_type": "code",
        "colab": {}
      },
      "source": [
        "### linear regression ###"
      ],
      "execution_count": 0,
      "outputs": []
    },
    {
      "cell_type": "code",
      "metadata": {
        "id": "x3k2UmhYNuxT",
        "colab_type": "code",
        "colab": {}
      },
      "source": [
        "import statsmodels.api as sm"
      ],
      "execution_count": 0,
      "outputs": []
    },
    {
      "cell_type": "code",
      "metadata": {
        "id": "TyElILYiOQOy",
        "colab_type": "code",
        "colab": {}
      },
      "source": [
        "dep=df['Unique Clicks']"
      ],
      "execution_count": 0,
      "outputs": []
    },
    {
      "cell_type": "code",
      "metadata": {
        "id": "6WbaUI1qO5lR",
        "colab_type": "code",
        "colab": {}
      },
      "source": [
        "indep=df[['Reach','Frequency']]"
      ],
      "execution_count": 0,
      "outputs": []
    },
    {
      "cell_type": "code",
      "metadata": {
        "id": "RM0i_YmXPmKn",
        "colab_type": "code",
        "colab": {}
      },
      "source": [
        "l=sm.OLS(dep,indep)"
      ],
      "execution_count": 0,
      "outputs": []
    },
    {
      "cell_type": "code",
      "metadata": {
        "id": "ztxWtliVPxg4",
        "colab_type": "code",
        "colab": {}
      },
      "source": [
        "r=l.fit()"
      ],
      "execution_count": 0,
      "outputs": []
    },
    {
      "cell_type": "code",
      "metadata": {
        "id": "8SiFbQ9rP9vT",
        "colab_type": "code",
        "colab": {}
      },
      "source": [
        "r.summary()"
      ],
      "execution_count": 0,
      "outputs": []
    },
    {
      "cell_type": "code",
      "metadata": {
        "id": "Uo9iT-l2YyyL",
        "colab_type": "code",
        "colab": {}
      },
      "source": [
        "print(\"3): From my prediction, the frequency is strongly predicts unqiue clicks and the coef is 3.6139 which means when clicks increasing by 1 point, the frequency will increasing byt 3.6139.\")"
      ],
      "execution_count": 0,
      "outputs": []
    }
  ]
}